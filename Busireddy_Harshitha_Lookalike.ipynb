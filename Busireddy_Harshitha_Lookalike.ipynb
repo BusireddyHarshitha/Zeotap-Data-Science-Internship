{
  "nbformat": 4,
  "nbformat_minor": 0,
  "metadata": {
    "colab": {
      "provenance": []
    },
    "kernelspec": {
      "name": "python3",
      "display_name": "Python 3"
    },
    "language_info": {
      "name": "python"
    }
  },
  "cells": [
    {
      "cell_type": "code",
      "execution_count": 1,
      "metadata": {
        "colab": {
          "base_uri": "https://localhost:8080/"
        },
        "id": "GaRLLo2FdYHu",
        "outputId": "c269c767-f191-4433-f822-9aa818ec00ec"
      },
      "outputs": [
        {
          "output_type": "stream",
          "name": "stdout",
          "text": [
            "  TransactionID CustomerID ProductID      TransactionDate  Quantity  \\\n",
            "0        T00001      C0199      P067  2024-08-25 12:38:23         1   \n",
            "1        T00112      C0146      P067  2024-05-27 22:23:54         1   \n",
            "2        T00166      C0127      P067  2024-04-25 07:38:55         1   \n",
            "3        T00272      C0087      P067  2024-03-26 22:55:37         2   \n",
            "4        T00363      C0070      P067  2024-03-21 15:10:10         3   \n",
            "\n",
            "   TotalValue  Price_x     CustomerName         Region  SignupDate  \\\n",
            "0      300.68   300.68   Andrea Jenkins         Europe  2022-12-03   \n",
            "1      300.68   300.68  Brittany Harvey           Asia  2024-09-04   \n",
            "2      300.68   300.68  Kathryn Stevens         Europe  2024-04-04   \n",
            "3      601.36   300.68  Travis Campbell  South America  2024-04-11   \n",
            "4      902.04   300.68    Timothy Perez         Europe  2022-03-15   \n",
            "\n",
            "                       ProductName     Category  Price_y  \n",
            "0  ComfortLiving Bluetooth Speaker  Electronics   300.68  \n",
            "1  ComfortLiving Bluetooth Speaker  Electronics   300.68  \n",
            "2  ComfortLiving Bluetooth Speaker  Electronics   300.68  \n",
            "3  ComfortLiving Bluetooth Speaker  Electronics   300.68  \n",
            "4  ComfortLiving Bluetooth Speaker  Electronics   300.68  \n"
          ]
        }
      ],
      "source": [
        "import pandas as pd\n",
        "\n",
        "# Load the datasets\n",
        "customers = pd.read_csv('Customers.csv')\n",
        "products = pd.read_csv('Products.csv')\n",
        "transactions = pd.read_csv('Transactions.csv')\n",
        "\n",
        "# Merge datasets\n",
        "data = transactions.merge(customers, on='CustomerID').merge(products, on='ProductID')\n",
        "\n",
        "# Display the first few rows of the merged dataset\n",
        "print(data.head())\n"
      ]
    },
    {
      "cell_type": "code",
      "source": [
        "# Create features for each customer\n",
        "customer_features = data.groupby('CustomerID').agg({\n",
        "    'TotalValue': 'sum',\n",
        "    'TransactionID': 'count',\n",
        "    'ProductID': lambda x: len(set(x)),  # Unique products purchased\n",
        "    'Region': 'first',  # Assuming region doesn't change\n",
        "}).reset_index()\n",
        "\n",
        "customer_features.columns = ['CustomerID', 'TotalSpent', 'TransactionCount', 'UniqueProducts', 'Region']\n",
        "\n",
        "# Display the customer features\n",
        "print(customer_features.head())\n"
      ],
      "metadata": {
        "colab": {
          "base_uri": "https://localhost:8080/"
        },
        "id": "NEJ-ZCTTdrBY",
        "outputId": "6fa18c7e-d81f-4cff-8724-63e5a3820b5c"
      },
      "execution_count": 2,
      "outputs": [
        {
          "output_type": "stream",
          "name": "stdout",
          "text": [
            "  CustomerID  TotalSpent  TransactionCount  UniqueProducts         Region\n",
            "0      C0001     3354.52                 5               5  South America\n",
            "1      C0002     1862.74                 4               4           Asia\n",
            "2      C0003     2725.38                 4               4  South America\n",
            "3      C0004     5354.88                 8               8  South America\n",
            "4      C0005     2034.24                 3               3           Asia\n"
          ]
        }
      ]
    },
    {
      "cell_type": "code",
      "source": [
        "# One-hot encoding for the Region column\n",
        "customer_features = pd.get_dummies(customer_features, columns=['Region'], drop_first=True)\n",
        "\n",
        "# Display encoded features\n",
        "print(customer_features.head())\n"
      ],
      "metadata": {
        "colab": {
          "base_uri": "https://localhost:8080/"
        },
        "id": "VNu09IfXdrEO",
        "outputId": "75070fea-4d8a-4612-f2de-483bbfc896b5"
      },
      "execution_count": 3,
      "outputs": [
        {
          "output_type": "stream",
          "name": "stdout",
          "text": [
            "  CustomerID  TotalSpent  TransactionCount  UniqueProducts  Region_Europe  \\\n",
            "0      C0001     3354.52                 5               5          False   \n",
            "1      C0002     1862.74                 4               4          False   \n",
            "2      C0003     2725.38                 4               4          False   \n",
            "3      C0004     5354.88                 8               8          False   \n",
            "4      C0005     2034.24                 3               3          False   \n",
            "\n",
            "   Region_North America  Region_South America  \n",
            "0                 False                  True  \n",
            "1                 False                 False  \n",
            "2                 False                  True  \n",
            "3                 False                  True  \n",
            "4                 False                 False  \n"
          ]
        }
      ]
    },
    {
      "cell_type": "code",
      "source": [
        "from sklearn.metrics.pairwise import cosine_similarity\n",
        "\n",
        "# Extract features for similarity calculation\n",
        "features = customer_features.drop(columns=['CustomerID'])\n",
        "similarity_matrix = cosine_similarity(features)\n",
        "\n",
        "# Create a DataFrame for similarity scores\n",
        "similarity_df = pd.DataFrame(similarity_matrix, index=customer_features['CustomerID'], columns=customer_features['CustomerID'])\n",
        "\n",
        "# Display similarity scores\n",
        "print(similarity_df.head())\n"
      ],
      "metadata": {
        "colab": {
          "base_uri": "https://localhost:8080/"
        },
        "id": "XblyfBpedrHW",
        "outputId": "cf39e846-bb23-4384-f824-d886c049d193"
      },
      "execution_count": 4,
      "outputs": [
        {
          "output_type": "stream",
          "name": "stdout",
          "text": [
            "CustomerID  C0001     C0002     C0003  C0004  C0005     C0006     C0007  \\\n",
            "CustomerID                                                                \n",
            "C0001         1.0  1.000000  1.000000    1.0    1.0  1.000000  1.000000   \n",
            "C0002         1.0  1.000000  0.999999    1.0    1.0  0.999999  0.999999   \n",
            "C0003         1.0  0.999999  1.000000    1.0    1.0  1.000000  1.000000   \n",
            "C0004         1.0  1.000000  1.000000    1.0    1.0  1.000000  1.000000   \n",
            "C0005         1.0  1.000000  1.000000    1.0    1.0  1.000000  1.000000   \n",
            "\n",
            "CustomerID     C0008     C0009     C0010  ...  C0191  C0192     C0193  C0194  \\\n",
            "CustomerID                                ...                                  \n",
            "C0001       0.999999  0.999996  0.999999  ...    1.0    1.0  1.000000    1.0   \n",
            "C0002       1.000000  0.999998  1.000000  ...    1.0    1.0  0.999999    1.0   \n",
            "C0003       0.999999  0.999996  0.999999  ...    1.0    1.0  1.000000    1.0   \n",
            "C0004       0.999999  0.999996  0.999999  ...    1.0    1.0  1.000000    1.0   \n",
            "C0005       0.999999  0.999996  0.999999  ...    1.0    1.0  1.000000    1.0   \n",
            "\n",
            "CustomerID  C0195     C0196  C0197     C0198     C0199     C0200  \n",
            "CustomerID                                                        \n",
            "C0001         1.0  0.999999    1.0  0.999999  1.000000  1.000000  \n",
            "C0002         1.0  0.999998    1.0  0.999999  1.000000  0.999999  \n",
            "C0003         1.0  0.999999    1.0  0.999999  0.999999  1.000000  \n",
            "C0004         1.0  0.999999    1.0  0.999999  1.000000  1.000000  \n",
            "C0005         1.0  0.999999    1.0  0.999999  1.000000  1.000000  \n",
            "\n",
            "[5 rows x 199 columns]\n"
          ]
        }
      ]
    },
    {
      "cell_type": "code",
      "source": [
        "def get_top_n_similar(customers, n=3):\n",
        "    recommendations = {}\n",
        "    for customer in customers:\n",
        "        # Get similarity scores and sort them\n",
        "        similar_scores = similarity_df[customer].sort_values(ascending=False)[1:n+1]  # Exclude self-comparison\n",
        "        recommendations[customer] = list(zip(similar_scores.index, similar_scores.values))\n",
        "    return recommendations\n",
        "\n",
        "# Get recommendations for customers C0001 to C0020\n",
        "customer_ids = customer_features['CustomerID'].tolist()[:20]\n",
        "top_lookalikes = get_top_n_similar(customer_ids)\n",
        "\n",
        "# Convert recommendations to DataFrame for saving to CSV\n",
        "# Create a list to hold the rows for the DataFrame\n",
        "rows = []\n",
        "\n",
        "for cust_id, lookalikes in top_lookalikes.items():\n",
        "    for similar_cust_id, score in lookalikes:\n",
        "        rows.append({'cust_id': cust_id, 'lookalike_cust_id': similar_cust_id, 'similarity_score': score})\n",
        "\n",
        "# Create DataFrame from rows\n",
        "lookalike_df = pd.DataFrame(rows)\n",
        "\n",
        "# Save to CSV\n",
        "lookalike_df.to_csv('Lookalike.csv', index=False)\n",
        "\n",
        "# Display the resulting DataFrame\n",
        "print(lookalike_df.head())\n"
      ],
      "metadata": {
        "colab": {
          "base_uri": "https://localhost:8080/"
        },
        "id": "N33bVSlDdrNE",
        "outputId": "451f6a58-7374-4dde-9f53-86a51faca0f9"
      },
      "execution_count": 6,
      "outputs": [
        {
          "output_type": "stream",
          "name": "stdout",
          "text": [
            "  cust_id lookalike_cust_id  similarity_score\n",
            "0   C0001             C0137               1.0\n",
            "1   C0001             C0152               1.0\n",
            "2   C0001             C0195               1.0\n",
            "3   C0002             C0139               1.0\n",
            "4   C0002             C0088               1.0\n"
          ]
        }
      ]
    }
  ]
}